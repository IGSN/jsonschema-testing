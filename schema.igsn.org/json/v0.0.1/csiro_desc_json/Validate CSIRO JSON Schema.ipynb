{
 "cells": [
  {
   "cell_type": "markdown",
   "metadata": {},
   "source": [
    "JSON Schema"
   ]
  },
  {
   "cell_type": "code",
   "execution_count": 54,
   "metadata": {},
   "outputs": [],
   "source": [
    "import json\n",
    "import jsonschema"
   ]
  },
  {
   "cell_type": "code",
   "execution_count": 55,
   "metadata": {},
   "outputs": [],
   "source": [
    "schema = open(\"csiro-desc.json\").read()"
   ]
  },
  {
   "cell_type": "code",
   "execution_count": 56,
   "metadata": {},
   "outputs": [
    {
     "data": {
      "text/plain": [
       "'{\\n\\t\"resources\": {\\n\\t\\t\"resource\": [\\n\\t\\t{\\n\\t\\t\\t\"registeredObjectType\": \"http://pid.geoscience.gov.au/def/voc/igsn-codelists/PhysicalSample\",\\n\\t\\t\\t\"resourceIdentifier\": \"AU1000011\",\\n\\t\\t\\t\"landingPage\": \"https://pid.geoscience.gov.au/sample/AU1000011\",\\n\\t\\t\\t\"resourceTitle\": \"Sample igsn:AU1000011\",\\n\\t\\t\\t\"isPublic\": true,\\n\\t\\t\\t\"resourceTypes\": [\"http://vocabulary.odm2.org/specimentype/thinSection\"],\\n\\t\\t\\t\"materialTypes\": [\"http://vocabulary.odm2.org/medium/particulate\",\"http://vocabulary.odm2.org/medium/rock\"],\\n\\t\\t\\t\"method\": {\\n          \"value\": \"missing\",\\n          \"methodURI\": \"http://www.opengis.net/def/nil/OGC/0/missing\"\\n        },\\n\\t\\t\\t\"location\": {\\n\\t\\t\\t\\t\"geometry\":\\n\\t\\t\\t\\t{\\n\\t\\t\\t\\t\\t\"value\":\"POINTZ(121.3724129 -15.47114123 -155.7502)\",\\n\\t\\t\\t\\t\\t\"srid\": \"https://epsg.io/8311\",\\n\\t\\t\\t\\t\\t\"verticalDatum\":\"https://epsg.io/4283\"\\n\\t\\t\\t\\t}\\n\\t\\t\\t},\\n\\t\\t\\t\"curationDetails\": { \\n\\t\\t\\t\\t\"curation\":[\\n\\t\\t\\t\\t{\\n\\t\\t\\t\\t\\t\"curator\":\"Geoscience Australia\",\\n\\t\\t\\t\\t\\t\"curationDate\": \"2016-10-05T08:00\",\\n\\t\\t\\t\\t\\t\"curationLocation\":\"Geoscience Australia, Jerrabomberra Ave, Symonston, ACT, Australia\",\\n\\t\\t\\t\\t\\t\"curatingInstitution\": \"http://pid.geoscience.gov.au/org/ga\"\\n\\t\\t\\t\\t}\\n\\t\\t\\t\\t]\\n\\t\\t\\t},\\n\\t\\t\\t\"alternateIdentifiers\": [\"1000011\",\"GA-1000011\"],\\n\\t\\t\\t\"logDate\":{\\n\\t\\t\\t\\t\"eventType\":\"registered\",\\n\\t\\t\\t\\t\"value\":\"2016-10-05T08:00\"\\n\\t\\t\\t}\\n\\t\\t}\\n    ]\\n  }\\n}'"
      ]
     },
     "execution_count": 56,
     "metadata": {},
     "output_type": "execute_result"
    }
   ],
   "source": [
    "data = open(\"csiro-desc-geo-ex.json\").read()\n",
    "data"
   ]
  },
  {
   "cell_type": "code",
   "execution_count": 57,
   "metadata": {},
   "outputs": [],
   "source": [
    "try:\n",
    "    jsonschema.validate(json.loads(data), json.loads(schema))\n",
    "except jsonschema.ValidationError as e:\n",
    "    print ('ValidationError',e.message)\n",
    "except jsonschema.SchemaError as e:\n",
    "    print ('SchemaError',e)"
   ]
  },
  {
   "cell_type": "code",
   "execution_count": null,
   "metadata": {},
   "outputs": [],
   "source": []
  },
  {
   "cell_type": "code",
   "execution_count": null,
   "metadata": {},
   "outputs": [],
   "source": []
  }
 ],
 "metadata": {
  "kernelspec": {
   "display_name": "Python 3",
   "language": "python",
   "name": "python3"
  },
  "language_info": {
   "codemirror_mode": {
    "name": "ipython",
    "version": 3
   },
   "file_extension": ".py",
   "mimetype": "text/x-python",
   "name": "python",
   "nbconvert_exporter": "python",
   "pygments_lexer": "ipython3",
   "version": "3.6.5"
  }
 },
 "nbformat": 4,
 "nbformat_minor": 2
}
